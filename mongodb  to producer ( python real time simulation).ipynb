{
 "cells": [
  {
   "cell_type": "code",
   "execution_count": 2,
   "id": "726efa7e",
   "metadata": {},
   "outputs": [
    {
     "name": "stdout",
     "output_type": "stream",
     "text": [
      "Requirement already satisfied: kafka-python in c:\\users\\ajay yadav\\anaconda3\\lib\\site-packages (2.0.2)\n",
      "Requirement already satisfied: pymongo in c:\\users\\ajay yadav\\anaconda3\\lib\\site-packages (4.6.1)\n",
      "Requirement already satisfied: dnspython<3.0.0,>=1.16.0 in c:\\users\\ajay yadav\\anaconda3\\lib\\site-packages (from pymongo) (2.4.2)\n"
     ]
    }
   ],
   "source": [
    "!pip install pandas kafka-python pymongo s3fs hdfs\n",
    "\n",
    "\n"
   ]
  },
  {
   "cell_type": "code",
   "execution_count": null,
   "id": "5e3e47c5",
   "metadata": {},
   "outputs": [],
   "source": [
    "import pandas as pd\n",
    "from kafka import KafkaProducer\n",
    "from time import sleep\n",
    "from json import dumps\n",
    "import json\n",
    "from pymongo import MongoClient\n",
    "\n",
    "# Connect to MongoDB\n",
    "mongo_client = MongoClient('mongodb://localhost:27017')\n",
    "db = mongo_client['Youtube_comment_database']\n",
    "collection = db['landslide']\n",
    "\n",
    "# Connect to Kafka\n",
    "producer = KafkaProducer(bootstrap_servers=['54.208.33.187:9092'], value_serializer=lambda x: dumps(x).encode('utf-8'))\n",
    "\n",
    "while True:\n",
    "    try:\n",
    "        # Query data from MongoDB\n",
    "        document = collection.aggregate([{'$sample': {'size': 1}}]).next()\n",
    "\n",
    "        # Send data to Kafka\n",
    "        producer.send('demo_test', value=document)\n",
    "        sleep(1)\n",
    "\n",
    "    except Exception as e:\n",
    "        print(f'Error in producer: {str(e)}')\n",
    "        sleep(5)  # Sleep for 5 seconds before retrying\n"
   ]
  },
  {
   "cell_type": "code",
   "execution_count": null,
   "id": "eaa6285d",
   "metadata": {},
   "outputs": [],
   "source": [
    "This Python script connects to a MongoDB database, retrieves a random document from a collection named 'landslide', \n",
    "and sends that document to a Kafka topic named 'demo_test' using a Kafka producer. The script runs in an infinite loop,\n",
    "handling errors by printing error messages and retrying every 5 seconds. \n",
    "It's designed to continuously stream data from MongoDB to Kafka for potential consumption by other applications subscribing \n",
    "to the 'demo_test' topic."
   ]
  },
  {
   "cell_type": "code",
   "execution_count": null,
   "id": "6de0bea6",
   "metadata": {},
   "outputs": [],
   "source": []
  }
 ],
 "metadata": {
  "kernelspec": {
   "display_name": "Python 3 (ipykernel)",
   "language": "python",
   "name": "python3"
  },
  "language_info": {
   "codemirror_mode": {
    "name": "ipython",
    "version": 3
   },
   "file_extension": ".py",
   "mimetype": "text/x-python",
   "name": "python",
   "nbconvert_exporter": "python",
   "pygments_lexer": "ipython3",
   "version": "3.10.9"
  }
 },
 "nbformat": 4,
 "nbformat_minor": 5
}
