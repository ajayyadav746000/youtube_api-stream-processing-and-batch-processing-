{
 "cells": [
  {
   "cell_type": "code",
   "execution_count": null,
   "id": "c0bb44db",
   "metadata": {},
   "outputs": [],
   "source": [
    "wget https://downloads.apache.org/kafka/3.3.1/kafka_2.12-3.3.1.tgz\n",
    "tar -xvf kafka_2.12-3.3.1.tgz\n",
    "\n",
    "\n",
    "-----------------------\n",
    "java -version\n",
    "sudo yum install java-1.8.0-openjdk\n",
    "java -version\n",
    "cd kafka_2.12-3.3.1\n",
    "\n",
    "\n",
    "\n"
   ]
  },
  {
   "cell_type": "code",
   "execution_count": null,
   "id": "5f306d12",
   "metadata": {},
   "outputs": [],
   "source": [
    "Start Zoo-keeper:\n",
    "-------------------------------\n",
    "bin/zookeeper-server-start.sh config/zookeeper.properties\n",
    "\n",
    "Open another window to start kafka\n",
    "But first ssh to to your ec2 machine as done above\n",
    "\n",
    "\n",
    "Start Kafka-server:\n",
    "----------------------------------------\n",
    "Duplicate the session & enter in a new console --\n",
    "export KAFKA_HEAP_OPTS=\"-Xmx256M -Xms128M\"\n",
    "cd kafka_2.12-3.3.1\n",
    "bin/kafka-server-start.sh config/server.properties"
   ]
  },
  {
   "cell_type": "code",
   "execution_count": null,
   "id": "5c73fc4b",
   "metadata": {},
   "outputs": [],
   "source": [
    "It is pointing to private server , change server.properties so that it can run in public IP \n",
    "\n",
    "To do this , you can follow any of the 2 approaches shared belwo --\n",
    "Do a \"sudo nano config/server.properties\" - change ADVERTISED_LISTENERS to public ip of the EC2 instance\n",
    "\n",
    "\n",
    "Create the topic:\n",
    "-----------------------------\n",
    "Duplicate the session & enter in a new console --\n",
    "cd kafka_2.12-3.3.1\n",
    "bin/kafka-topics.sh --create --topic demo_testing2 --bootstrap-server 54.208.33.187:9092 --replication-factor 1 --partitions 1\n"
   ]
  },
  {
   "cell_type": "code",
   "execution_count": null,
   "id": "41ec3ee5",
   "metadata": {},
   "outputs": [],
   "source": [
    "\n",
    "Start Producer:\n",
    "--------------------------\n",
    "bin/kafka-console-producer.sh --topic demo_testing2 --bootstrap-server 54.208.33.187:9092 \n",
    "\n",
    "Start Consumer:\n",
    "-------------------------\n",
    "Duplicate the session & enter in a new console --\n",
    "cd kafka_2.12-3.3.1\n",
    "bin/kafka-console-consumer.sh --topic demo_testing2 --bootstrap-server 54.208.33.187:9092"
   ]
  },
  {
   "cell_type": "code",
   "execution_count": null,
   "id": "ccdee7d7",
   "metadata": {},
   "outputs": [],
   "source": []
  },
  {
   "cell_type": "code",
   "execution_count": null,
   "id": "84fdb12b",
   "metadata": {},
   "outputs": [],
   "source": []
  },
  {
   "cell_type": "code",
   "execution_count": null,
   "id": "471cd149",
   "metadata": {},
   "outputs": [],
   "source": []
  }
 ],
 "metadata": {
  "kernelspec": {
   "display_name": "Python 3 (ipykernel)",
   "language": "python",
   "name": "python3"
  },
  "language_info": {
   "codemirror_mode": {
    "name": "ipython",
    "version": 3
   },
   "file_extension": ".py",
   "mimetype": "text/x-python",
   "name": "python",
   "nbconvert_exporter": "python",
   "pygments_lexer": "ipython3",
   "version": "3.10.9"
  }
 },
 "nbformat": 4,
 "nbformat_minor": 5
}
